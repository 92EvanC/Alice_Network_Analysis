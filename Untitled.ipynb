{
 "cells": [
  {
   "cell_type": "code",
   "execution_count": 2,
   "id": "df09ab8c-098e-46d8-8fa4-835933d49305",
   "metadata": {},
   "outputs": [
    {
     "ename": "SyntaxError",
     "evalue": "invalid decimal literal (3870935074.py, line 1)",
     "output_type": "error",
     "traceback": [
      "\u001b[0;36m  Cell \u001b[0;32mIn[2], line 1\u001b[0;36m\u001b[0m\n\u001b[0;31m    git clone https://github.com/92EvanC/Alice_Network_Analysis.git\u001b[0m\n\u001b[0m                                  ^\u001b[0m\n\u001b[0;31mSyntaxError\u001b[0m\u001b[0;31m:\u001b[0m invalid decimal literal\n"
     ]
    }
   ],
   "source": [
    "git clone https://github.com/92EvanC/Alice_Network_Analysis.git\n"
   ]
  },
  {
   "cell_type": "code",
   "execution_count": 4,
   "id": "34f44b0b-f817-4069-96e6-5fa7f0f3e20f",
   "metadata": {},
   "outputs": [
    {
     "name": "stdout",
     "output_type": "stream",
     "text": [
      "Cloning into 'Alice_Network_Analysis'...\n",
      "remote: Enumerating objects: 3, done.\u001b[K\n",
      "remote: Counting objects: 100% (3/3), done.\u001b[K\n",
      "remote: Total 3 (delta 0), reused 0 (delta 0), pack-reused 0 (from 0)\u001b[K\n",
      "Receiving objects: 100% (3/3), done.\n"
     ]
    }
   ],
   "source": [
    "!git clone https://github.com/92EvanC/Alice_Network_Analysis.git\n"
   ]
  },
  {
   "cell_type": "code",
   "execution_count": 6,
   "id": "96d9e28d-ca4a-4f44-9bb7-23c1733cb6ed",
   "metadata": {},
   "outputs": [
    {
     "name": "stdout",
     "output_type": "stream",
     "text": [
      "/Users/evancarr/Desktop/Alice_Network_Analysis/Alice_Network_Analysis\n"
     ]
    }
   ],
   "source": [
    "cd Alice_Network_Analysis"
   ]
  },
  {
   "cell_type": "code",
   "execution_count": 8,
   "id": "33129807-b88a-44c2-af9e-885d48b12c86",
   "metadata": {},
   "outputs": [
    {
     "name": "stdout",
     "output_type": "stream",
     "text": [
      "/Users/evancarr/Desktop/Alice_Network_Analysis\n"
     ]
    }
   ],
   "source": [
    "cd /Users/evancarr/Desktop/Alice_Network_Analysis"
   ]
  },
  {
   "cell_type": "code",
   "execution_count": 12,
   "id": "3511e76a-f227-4afd-956f-92b4218bd23d",
   "metadata": {},
   "outputs": [
    {
     "ename": "SyntaxError",
     "evalue": "invalid syntax (3827820173.py, line 1)",
     "output_type": "error",
     "traceback": [
      "\u001b[0;36m  Cell \u001b[0;32mIn[12], line 1\u001b[0;36m\u001b[0m\n\u001b[0;31m    git add .\u001b[0m\n\u001b[0m        ^\u001b[0m\n\u001b[0;31mSyntaxError\u001b[0m\u001b[0;31m:\u001b[0m invalid syntax\n"
     ]
    }
   ],
   "source": [
    "git add ."
   ]
  },
  {
   "cell_type": "code",
   "execution_count": 14,
   "id": "34b0ce04-e4ec-4a9c-8561-3d3af9e9cd90",
   "metadata": {},
   "outputs": [],
   "source": [
    "!git add ."
   ]
  },
  {
   "cell_type": "code",
   "execution_count": 16,
   "id": "1b41925b-4965-4c09-a8bd-cb8c6ee36166",
   "metadata": {},
   "outputs": [
    {
     "name": "stdout",
     "output_type": "stream",
     "text": [
      "[main c3901bd] ReadME was updated\n",
      " 3 files changed, 108 insertions(+), 4 deletions(-)\n"
     ]
    }
   ],
   "source": [
    "!git commit -m \"ReadME was updated\""
   ]
  },
  {
   "cell_type": "code",
   "execution_count": null,
   "id": "a250e952-f0d1-4116-b6d9-b821e2050564",
   "metadata": {},
   "outputs": [
    {
     "name": "stdout",
     "output_type": "stream",
     "text": [
      "Generating public/private rsa key pair.\n",
      "Enter file in which to save the key (/Users/evancarr/.ssh/id_rsa): "
     ]
    }
   ],
   "source": [
    "!ssh-keygen -o -t rsa -C \"evancarr92@gmail.com\""
   ]
  }
 ],
 "metadata": {
  "kernelspec": {
   "display_name": "Python [conda env:base] *",
   "language": "python",
   "name": "conda-base-py"
  },
  "language_info": {
   "codemirror_mode": {
    "name": "ipython",
    "version": 3
   },
   "file_extension": ".py",
   "mimetype": "text/x-python",
   "name": "python",
   "nbconvert_exporter": "python",
   "pygments_lexer": "ipython3",
   "version": "3.11.5"
  }
 },
 "nbformat": 4,
 "nbformat_minor": 5
}
